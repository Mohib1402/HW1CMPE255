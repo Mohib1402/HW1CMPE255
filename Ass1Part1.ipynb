{
  "nbformat": 4,
  "nbformat_minor": 0,
  "metadata": {
    "colab": {
      "provenance": []
    },
    "kernelspec": {
      "name": "python3",
      "display_name": "Python 3"
    },
    "language_info": {
      "name": "python"
    }
  },
  "cells": [
    {
      "cell_type": "markdown",
      "source": [
        "# Import Statements"
      ],
      "metadata": {
        "id": "z0fXfyRyznF4"
      }
    },
    {
      "cell_type": "code",
      "execution_count": null,
      "metadata": {
        "id": "WJEB7d7Sy2eM"
      },
      "outputs": [],
      "source": [
        "import random\n",
        "import sys\n",
        "import os"
      ]
    },
    {
      "cell_type": "markdown",
      "source": [
        "# Variables"
      ],
      "metadata": {
        "id": "2ln7rrftzRqd"
      }
    },
    {
      "cell_type": "code",
      "source": [
        "print(\"Hello World\")\n",
        "name = \"Derek\"\n",
        "print(name)\n",
        "\n",
        "print(\"5 + 2 =\", 5 + 2)\n",
        "print(\"5 - 2 =\", 5 - 2)\n",
        "print(\"5 * 2 =\", 5 * 2)\n",
        "print(\"5 / 2 =\", 5 / 2)\n",
        "print(\"5 % 2 =\", 5 % 2)\n",
        "print(\"5 ** 2 =\", 5 ** 2)\n",
        "print(\"5 // 2 =\", 5 // 2)\n",
        "\n",
        "print(\"1 + 2 - 3 * 2 = \", 1 + 2 - 3 * 2)\n",
        "print(\"(1 + 2 - 3) * 2 = \", 1 + 2 - 3 * 2)\n",
        "\n",
        "quote = \"\\\"Always remember you are unique\"\n",
        "\n",
        "multi_line_quote = '''just\n",
        "like everyone else'''\n",
        "\n",
        "print(quote)\n",
        "new_string = quote + multi_line_quote\n",
        "print('\\n' * 5)\n",
        "print(\"%s %s %s\" % ('I like the quote', quote, multi_line_quote))\n",
        "print(\"I dont like \", end = \"\")\n",
        "print(\"newlines\")"
      ],
      "metadata": {
        "colab": {
          "base_uri": "https://localhost:8080/"
        },
        "id": "-TeULsbnzHwy",
        "outputId": "ea906bec-8b10-41b8-9ada-903ba6dd0ca8"
      },
      "execution_count": null,
      "outputs": [
        {
          "output_type": "stream",
          "name": "stdout",
          "text": [
            "Hello World\n",
            "Derek\n",
            "5 + 2 = 7\n",
            "5 - 2 = 3\n",
            "5 * 2 = 10\n",
            "5 / 2 = 2.5\n",
            "5 % 2 = 1\n",
            "5 ** 2 = 25\n",
            "5 // 2 = 2\n",
            "1 + 2 - 3 * 2 =  -3\n",
            "(1 + 2 - 3) * 2 =  -3\n",
            "\"Always remember you are unique\n",
            "\n",
            "\n",
            "\n",
            "\n",
            "\n",
            "\n",
            "I like the quote \"Always remember you are unique just \n",
            "like everyone else\n",
            "I dont like newlines\n"
          ]
        }
      ]
    },
    {
      "cell_type": "markdown",
      "source": [
        "# Lists"
      ],
      "metadata": {
        "id": "2juQJ6PJ14Xy"
      }
    },
    {
      "cell_type": "code",
      "source": [
        "grocery_list = ['Juice', 'Tomatoes', 'Potatoes', 'Bananas']\n",
        "\n",
        "print('First Item', grocery_list[0])\n",
        "\n",
        "grocery_list[0] = \"Green Juice\"\n",
        "print('First Item', grocery_list[0])\n",
        "\n",
        "print(grocery_list[1:3])\n",
        "\n",
        "other_events = ['Wash Car', 'Pick Up Kids', 'Cash Check']\n",
        "\n",
        "to_do_list = [other_events, grocery_list]\n",
        "print(to_do_list)\n",
        "\n",
        "print(to_do_list[1][1])\n",
        "\n",
        "grocery_list.append('Onions')\n",
        "print(to_do_list)\n",
        "\n",
        "grocery_list.insert(1, \"Pickle\")\n",
        "grocery_list.remove(\"Pickle\")\n",
        "\n",
        "grocery_list.sort()\n",
        "grocery_list.reverse()\n",
        "\n",
        "del grocery_list[4]\n",
        "print(to_do_list)\n",
        "\n",
        "to_do_list2 = other_events + grocery_list\n",
        "\n",
        "print(len(to_do_list2))\n",
        "print(max(to_do_list2))\n",
        "print(min(to_do_list2))"
      ],
      "metadata": {
        "colab": {
          "base_uri": "https://localhost:8080/"
        },
        "id": "JuEWHwkVzNdn",
        "outputId": "5479b30d-df4e-4364-93dd-86962c818ab4"
      },
      "execution_count": null,
      "outputs": [
        {
          "output_type": "stream",
          "name": "stdout",
          "text": [
            "First Item Juice\n",
            "First Item Green Juice\n",
            "['Tomatoes', 'Potatoes']\n",
            "[['Wash Car', 'Pick Up Kids', 'Cash Check'], ['Green Juice', 'Tomatoes', 'Potatoes', 'Bananas']]\n",
            "Tomatoes\n",
            "[['Wash Car', 'Pick Up Kids', 'Cash Check'], ['Green Juice', 'Tomatoes', 'Potatoes', 'Bananas', 'Onions']]\n",
            "[['Wash Car', 'Pick Up Kids', 'Cash Check'], ['Tomatoes', 'Potatoes', 'Onions', 'Green Juice']]\n",
            "7\n",
            "Wash Car\n"
          ]
        }
      ]
    },
    {
      "cell_type": "markdown",
      "source": [
        "# Tuples"
      ],
      "metadata": {
        "id": "fr3QJ2iL3P5R"
      }
    },
    {
      "cell_type": "code",
      "source": [
        "pi_tuple = (3, 1, 4, 1, 5, 9)\n",
        "\n",
        "new_tuple = list(pi_tuple)\n",
        "new_list = tuple(pi_tuple)\n",
        "\n",
        "print(len(tuple))\n",
        "print(min(tuple))\n",
        "print(max(tuple))"
      ],
      "metadata": {
        "id": "zCcyTWgJ3KqT"
      },
      "execution_count": null,
      "outputs": []
    },
    {
      "cell_type": "markdown",
      "source": [
        "# Dictionaries"
      ],
      "metadata": {
        "id": "DUEgN6jx3qr2"
      }
    },
    {
      "cell_type": "code",
      "source": [
        "super_villains = {'Fiddler' : 'Isaac Bawin',\n",
        "                  'Captain Cold' : 'Leonard Snart',\n",
        "                  'Weather Wizard': 'Mark Mardon',\n",
        "                  'Mirror Master' : 'Sam Scudder',\n",
        "                  'Pied Piper' : 'Thomas Peterson'}\n",
        "\n",
        "print(super_villains['Captain Cold'])\n",
        "\n",
        "del super_villains['Fiddler']\n",
        "\n",
        "super_villains['Pied Piper'] = 'Harley Rathway'\n",
        "\n",
        "print(len(super_villains))\n",
        "\n",
        "print(super_villains.get(\"Pied Piper\"))\n",
        "\n",
        "print(super_villains.keys())\n",
        "\n",
        "print(super_villains.values())\n",
        "\n"
      ],
      "metadata": {
        "id": "PMhPkqkA3u2m"
      },
      "execution_count": null,
      "outputs": []
    },
    {
      "cell_type": "markdown",
      "source": [
        "# If-else Conditions"
      ],
      "metadata": {
        "id": "yn2eCqE-4mt5"
      }
    },
    {
      "cell_type": "code",
      "source": [
        "age = 21\n",
        "\n",
        "if age > 16:\n",
        "  print('You are old enough to drive')\n",
        "else:\n",
        "  print('You are not old enough to drive')\n",
        "\n",
        "if age >= 21:\n",
        "  print('You are old enough to drive tractor trailer')\n",
        "elif age >= 16:\n",
        "  print('You are old enough to drive a car')\n",
        "else:\n",
        "  print('You are not old enough to drive')\n",
        "\n",
        "if ((age >= 1) and (age <= 18)):\n",
        "  print(\"You get a birthday\")\n",
        "elif (age == 21 or age >= 65):\n",
        "  print(\"You get a birthday\")\n",
        "elif not(age == 30):\n",
        "  print(\"You don't get a birthday\")\n",
        "else:\n",
        "  print(\"You get a birthday party yeah\")"
      ],
      "metadata": {
        "colab": {
          "base_uri": "https://localhost:8080/"
        },
        "id": "jrUHWeC44pbn",
        "outputId": "64e5a3ea-a6c1-44e9-a185-34cee20dcc9d"
      },
      "execution_count": null,
      "outputs": [
        {
          "output_type": "stream",
          "name": "stdout",
          "text": [
            "You are old enough to drive\n",
            "You are old enough to drive tractor trailer\n",
            "You get a birthday\n"
          ]
        }
      ]
    },
    {
      "cell_type": "markdown",
      "source": [
        "# For-loop"
      ],
      "metadata": {
        "id": "P17yfoIY5ewY"
      }
    },
    {
      "cell_type": "code",
      "source": [
        "for x in range(0, 10):\n",
        "  print(x, ' ', end=\"\")\n",
        "\n",
        "print('\\n')\n",
        "\n",
        "grocery_list = ['Juice', 'Tomatoes', 'Potatoes', 'Bananas']\n",
        "\n",
        "for y in grocery_list:\n",
        "  print(y)\n",
        "\n",
        "for x in [2, 4, 6, 8, 10]:\n",
        "    print(x)\n",
        "\n",
        "num_list = [[1,2,3], [10, 20, 30], [100, 200, 330]]\n",
        "\n",
        "for x in range(0, 3):\n",
        "  for y in range(0, 3):\n",
        "    print(num_list[x][y])\n",
        "\n",
        "r"
      ],
      "metadata": {
        "colab": {
          "base_uri": "https://localhost:8080/"
        },
        "id": "jfVAbofi5gI3",
        "outputId": "3ae0c39f-7e69-4c44-b9cf-28607aca4e77"
      },
      "execution_count": null,
      "outputs": [
        {
          "output_type": "stream",
          "name": "stdout",
          "text": [
            "0  1  2  3  4  5  6  7  8  9  "
          ]
        }
      ]
    },
    {
      "cell_type": "markdown",
      "source": [
        "# While-loop"
      ],
      "metadata": {
        "id": "BYtEYRvW6O_l"
      }
    },
    {
      "cell_type": "code",
      "source": [
        "random_num = random.randrange(0, 100)\n",
        "\n",
        "while(random_num != 15):\n",
        "  print(random_num)\n",
        "  random_num = random.randrange(0, 100)\n",
        "\n",
        "i = 0;\n",
        "\n",
        "while(i <= 20):\n",
        "  if(i % 2 == 0):\n",
        "    print(i)\n",
        "  elif(i == 9):\n",
        "    break\n",
        "  else:\n",
        "    i += 1 # i = i + 1\n",
        "    continue\n",
        "  i += 1"
      ],
      "metadata": {
        "id": "8_dv_Twt6RBO"
      },
      "execution_count": null,
      "outputs": []
    },
    {
      "cell_type": "markdown",
      "source": [
        "# Functions"
      ],
      "metadata": {
        "id": "ZelB2iRR7Ogg"
      }
    },
    {
      "cell_type": "code",
      "source": [
        "def addNumber(fNum, lNum):\n",
        "  sumNum = fNum + lNum\n",
        "  return sumNum\n",
        "\n",
        "print(addNumber(1, 4))"
      ],
      "metadata": {
        "colab": {
          "base_uri": "https://localhost:8080/"
        },
        "id": "HpSyeqOp7Qoy",
        "outputId": "23d0c83c-0f37-405d-caeb-695fca6be80d"
      },
      "execution_count": null,
      "outputs": [
        {
          "output_type": "stream",
          "name": "stdout",
          "text": [
            "5\n"
          ]
        }
      ]
    },
    {
      "cell_type": "markdown",
      "source": [
        "# Input"
      ],
      "metadata": {
        "id": "LMxCAdFS7mjG"
      }
    },
    {
      "cell_type": "code",
      "source": [
        "print('What is your name')\n",
        "\n",
        "name = sys.stdin.readline()\n",
        "\n",
        "print('Hello', name)"
      ],
      "metadata": {
        "colab": {
          "base_uri": "https://localhost:8080/"
        },
        "id": "JxkQPpNB7nn2",
        "outputId": "19231f78-7c57-41b5-a9e3-24f661177c61"
      },
      "execution_count": null,
      "outputs": [
        {
          "output_type": "stream",
          "name": "stdout",
          "text": [
            "What is your name\n"
          ]
        }
      ]
    },
    {
      "cell_type": "markdown",
      "source": [
        "# Strings"
      ],
      "metadata": {
        "id": "oqmZUqFU8gfs"
      }
    },
    {
      "cell_type": "code",
      "source": [
        "long_string = \"I'll catch you if you fall - The Floor\"\n",
        "\n",
        "print(long_string[0:4])\n",
        "\n",
        "print(long_string[-5:])\n",
        "\n",
        "print(long_string[:-5])\n",
        "\n",
        "print(long_string[:4] + \"be there\")\n",
        "\n",
        "print(\"%c is my %s letter and my number %d number is %.5f\" %('X', 'Favorite', 1, .14))\n",
        "\n",
        "print(long_string.capitalize())\n",
        "\n",
        "print(long_string.find(\"Floor\"))\n",
        "\n",
        "print(long_string.isalnum())\n",
        "\n",
        "print(len(long_string))\n",
        "\n",
        "print(long_string.replace(\"Floor\", \"Ground\"))\n",
        "\n",
        "quote_list = long_string.split(\" \")\n",
        "print(quote_list)\n",
        "\n"
      ],
      "metadata": {
        "colab": {
          "base_uri": "https://localhost:8080/"
        },
        "id": "A8N8D8Tq8d7T",
        "outputId": "43d8265c-d37d-4df1-89eb-e9f924726707"
      },
      "execution_count": null,
      "outputs": [
        {
          "output_type": "stream",
          "name": "stdout",
          "text": [
            "I'll\n",
            "Floor\n",
            "I'll catch you if you fall - The \n",
            "I'llbe there\n",
            "X is my Favorite letter and my number 1 number is 0.14000\n",
            "I'll catch you if you fall - the floor\n",
            "33\n",
            "False\n",
            "38\n",
            "I'll catch you if you fall - The Ground\n",
            "[\"I'll\", 'catch', 'you', 'if', 'you', 'fall', '-', 'The', 'Floor']\n"
          ]
        }
      ]
    },
    {
      "cell_type": "markdown",
      "source": [
        "# File IO"
      ],
      "metadata": {
        "id": "7pfTOIBW9txe"
      }
    },
    {
      "cell_type": "code",
      "source": [
        "test_file = open(\"test.txt\", \"wb\")\n",
        "\n",
        "print(test_file.mode)\n",
        "print(test_file.name)\n",
        "\n",
        "test_file.write(bytes(\"Write me to the file\\n\", 'UTF-8'))\n",
        "\n",
        "test_file.close()\n",
        "\n",
        "test_file = open(\"test.txt\", \"r+\")\n",
        "\n",
        "text_in_file = test_file.read()\n",
        "\n",
        "print(text_in_file)\n",
        "\n",
        "os.remove(\"test.txt\")\n"
      ],
      "metadata": {
        "colab": {
          "base_uri": "https://localhost:8080/"
        },
        "id": "BvYnNRLs9yT6",
        "outputId": "e80c1b35-33b5-4610-b775-612a7b919aa3"
      },
      "execution_count": null,
      "outputs": [
        {
          "output_type": "stream",
          "name": "stdout",
          "text": [
            "wb\n",
            "test.txt\n",
            "Write me to the file\n",
            "\n"
          ]
        }
      ]
    },
    {
      "cell_type": "markdown",
      "source": [
        "# Objects & Methods"
      ],
      "metadata": {
        "id": "Nhpk-SIB-hxF"
      }
    },
    {
      "cell_type": "code",
      "source": [
        "class Animal:\n",
        "  __name = \"\"\n",
        "  __height = 0\n",
        "  __weight = 0;\n",
        "  __sound = 0\n",
        "\n",
        "  def __init__(self, name, height, weight, sound):\n",
        "    self.__name = name\n",
        "    self.__height = height\n",
        "    self.__weight = weight\n",
        "    self.__sound = sound\n",
        "\n",
        "  def set_name(self, name):\n",
        "    self.__name = name\n",
        "\n",
        "  def get_name(self):\n",
        "    return self.__name\n",
        "\n",
        "  def set_height(self, height):\n",
        "    self.__height = height\n",
        "\n",
        "  def get_height(self):\n",
        "    return self.__height\n",
        "\n",
        "  def set_weight(self, weight):\n",
        "    self.__weight = weight\n",
        "\n",
        "  def get_weight(self):\n",
        "    return self.__weight\n",
        "\n",
        "  def set_sound(self, sound):\n",
        "    self.__sound = sound\n",
        "\n",
        "  def get_sound(self):\n",
        "    return self.__sound\n",
        "\n",
        "  def get_type(self):\n",
        "    print(\"Animal\")\n",
        "\n",
        "  def toString(self):\n",
        "    return \"{} is {} cm tall and {} kilograms and say {}\".format(self.__name, self.__height, self.__weight, self.__sound)\n",
        "\n",
        "cat = Animal('Whiskers', 33, 10, 'Meow')\n",
        "print(cat.toString())"
      ],
      "metadata": {
        "colab": {
          "base_uri": "https://localhost:8080/"
        },
        "id": "2PZMfrWU97kA",
        "outputId": "ded7b508-cf0c-4e25-f7e5-da94fd844a1b"
      },
      "execution_count": null,
      "outputs": [
        {
          "output_type": "stream",
          "name": "stdout",
          "text": [
            "Whiskers is 33 cm tall and 10 kilograms and say Meow\n"
          ]
        }
      ]
    },
    {
      "cell_type": "code",
      "source": [
        "class Dog(Animal):\n",
        "  __owner = \"\"\n",
        "\n",
        "  def __init__(self, name, height, weight, sound, owner):\n",
        "    self.__owner = owner\n",
        "    super(Dog, self).__init__(name, height, weight, sound)\n",
        "\n",
        "  def set_owner(self, owner):\n",
        "    self.__owner = owner\n",
        "\n",
        "  def get_owner(self):\n",
        "    return self.__owner\n",
        "\n",
        "  def get_type(self):\n",
        "    print(\"Dog\")\n",
        "\n",
        "  def toString(self):\n",
        "    return \"{} is {} cm tall and {} kilograms and say {} His owner is {}\".format(self.get_name(), self.get_height(), self.get_weight(), self.get_sound(), self.__owner)\n",
        "\n",
        "  def multiple_sounds(self, how_many=None):\n",
        "    if how_many is None:\n",
        "      print(self.get_sound())\n",
        "    else:\n",
        "      print(self.get_sound() * how_many)\n",
        "\n",
        "spot = Dog(\"Spot\", 53, 27, \"Ruff\", \"Derek\")\n",
        "\n",
        "print(spot.toString())"
      ],
      "metadata": {
        "colab": {
          "base_uri": "https://localhost:8080/"
        },
        "id": "sAcrag6QFVqP",
        "outputId": "edc63e75-48b7-40f7-ec19-4ba34790ce43"
      },
      "execution_count": null,
      "outputs": [
        {
          "output_type": "stream",
          "name": "stdout",
          "text": [
            "Spot is 53 cm tall and 27 kilograms and say Ruff His owner is Derek\n"
          ]
        }
      ]
    },
    {
      "cell_type": "code",
      "source": [
        "class AnimalTesting:\n",
        "  def get_type(self, animal):\n",
        "    animal.get_type()\n",
        "\n",
        "test_animals = AnimalTesting()\n",
        "\n",
        "test_animals.get_type(cat)\n",
        "test_animals.get_type(spot)\n",
        "\n",
        "spot.multiple_sounds(4)\n",
        "spot.multiple_sounds()"
      ],
      "metadata": {
        "colab": {
          "base_uri": "https://localhost:8080/"
        },
        "id": "oBquSRtEFJir",
        "outputId": "474dbc30-e749-4b3e-e7c4-4bdb1a76b2d3"
      },
      "execution_count": null,
      "outputs": [
        {
          "output_type": "stream",
          "name": "stdout",
          "text": [
            "Animal\n",
            "Dog\n",
            "RuffRuffRuffRuff\n",
            "Ruff\n"
          ]
        }
      ]
    }
  ]
}