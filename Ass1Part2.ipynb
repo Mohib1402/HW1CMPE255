{
  "nbformat": 4,
  "nbformat_minor": 0,
  "metadata": {
    "colab": {
      "provenance": []
    },
    "kernelspec": {
      "name": "python3",
      "display_name": "Python 3"
    },
    "language_info": {
      "name": "python"
    }
  },
  "cells": [
    {
      "cell_type": "markdown",
      "source": [
        "# Existing magics"
      ],
      "metadata": {
        "id": "7TOLZZYzLFvL"
      }
    },
    {
      "cell_type": "code",
      "execution_count": null,
      "metadata": {
        "colab": {
          "base_uri": "https://localhost:8080/",
          "height": 74
        },
        "id": "70hN-WWZHymU",
        "outputId": "84b997e0-193a-4f6d-e8f5-55bcc0ba49a1"
      },
      "outputs": [
        {
          "output_type": "display_data",
          "data": {
            "text/plain": [
              "<IPython.core.display.HTML object>"
            ],
            "text/html": [
              "<h1> Heading </h1>\n"
            ]
          },
          "metadata": {}
        }
      ],
      "source": [
        "%%html\n",
        "<h1> Heading </h1>\n"
      ]
    },
    {
      "cell_type": "code",
      "source": [
        "%load_ext rpy2.ipython\n"
      ],
      "metadata": {
        "id": "ajjiUfiMKqq8"
      },
      "execution_count": null,
      "outputs": []
    },
    {
      "cell_type": "code",
      "source": [
        "%%R\n",
        "x <- 42\n",
        "print(x)"
      ],
      "metadata": {
        "colab": {
          "base_uri": "https://localhost:8080/"
        },
        "id": "iTbTmCoPK3qS",
        "outputId": "9d497b90-b5e9-4165-9b89-814d32daf7f6"
      },
      "execution_count": null,
      "outputs": [
        {
          "output_type": "stream",
          "name": "stdout",
          "text": [
            "[1] 42\n"
          ]
        }
      ]
    },
    {
      "cell_type": "markdown",
      "source": [
        "# Your new magics"
      ],
      "metadata": {
        "id": "bnZf-RH8LFzb"
      }
    },
    {
      "cell_type": "code",
      "source": [
        "import re\n",
        "from IPython.display import HTML\n",
        "from IPython.core.magic import register_cell_magic"
      ],
      "metadata": {
        "id": "uFQD98YKLBJQ"
      },
      "execution_count": null,
      "outputs": []
    },
    {
      "cell_type": "code",
      "source": [
        "def var_sub(m):\n",
        "  v = globals()[m[1]]\n",
        "  if type(v) == str:\n",
        "    return v\n",
        "  else:\n",
        "    return repr(v)"
      ],
      "metadata": {
        "id": "sCJgncd0Lw0k"
      },
      "execution_count": null,
      "outputs": []
    },
    {
      "cell_type": "code",
      "source": [
        "@register_cell_magic\n",
        "def javascript(line=\"\", cell=\"\"):\n",
        "  # var sub\n",
        "  cell = re.sub(r'\\{\\{(\\w+)+}}', var_sub, cell)\n",
        "\n",
        "  m = re.match(r'\\w+', line)\n",
        "  if m:                       # assign to a variable\n",
        "    globals()[m[0]] = cell\n",
        "  else:                       # normal display\n",
        "    display(HTML(\"\"\"\n",
        "<div id=\"drawing\"></div>\n",
        "<script src=\"https://cdnjs.cloudflare.com/ajax/libs/svg.js/2.6.5/svg.js\"></script>\n",
        "<script>\n",
        "var draw = SVG('drawing').size('100%', 100)\n",
        "var y_cursor_pos = 0\n",
        "function print(x){\n",
        "  draw.text(x.toString()).move(400, y_cursor_pos)\n",
        "  y_cursor_pos += 20\n",
        "}\n",
        "\n",
        "text = s=> draw.text(s).font('anchor', 'middle')\n",
        "line = (x1,y1, x2,y2)=> draw.line(x1,y1, x2, y2).stroke({width: 1})\n",
        "max = Math.max\n",
        "\"\"\" + cell))"
      ],
      "metadata": {
        "id": "wDHsr9tXMA7s"
      },
      "execution_count": null,
      "outputs": []
    },
    {
      "cell_type": "code",
      "source": [
        "%%javascript\n",
        "draw.rect(100, 100)"
      ],
      "metadata": {
        "colab": {
          "base_uri": "https://localhost:8080/",
          "height": 121
        },
        "id": "OSI8wrV3BGpz",
        "outputId": "e90a7f04-91c3-42b7-b1f0-f296b5cc7dff"
      },
      "execution_count": null,
      "outputs": [
        {
          "output_type": "display_data",
          "data": {
            "text/plain": [
              "<IPython.core.display.HTML object>"
            ],
            "text/html": [
              "\n",
              "<div id=\"drawing\"></div>\n",
              "<script src=\"https://cdnjs.cloudflare.com/ajax/libs/svg.js/2.6.5/svg.js\"></script>\n",
              "<script>\n",
              "var draw = SVG('drawing').size('100%', 100)\n",
              "var y_cursor_pos = 0\n",
              "function print(x){\n",
              "  draw.text(x.toString()).move(400, y_cursor_pos)\n",
              "  y_cursor_pos += 20\n",
              "}\n",
              "\n",
              "text = s=> draw.text(s).font('anchor', 'middle')\n",
              "line = (x1,y1, x2,y2)=> draw.line(x1,y1, x2, y2).stroke({width: 1})\n",
              "max = Math.max\n",
              "draw.rect(100, 100)\n"
            ]
          },
          "metadata": {}
        }
      ]
    },
    {
      "cell_type": "markdown",
      "source": [
        "# Elasticsearch Magic"
      ],
      "metadata": {
        "id": "uWcydlwHB1sg"
      }
    },
    {
      "cell_type": "code",
      "source": [
        "# install\n",
        "!wget https://artifacts.elastic.co/downloads/elasticsearch/elasticsearch-7.0.0-linux-x86_64.tar.gz -q\n",
        "!tar -xzf elasticsearch-7.0.0-linux-x86_64.tar.gz\n",
        "!chown -R daemon:daemon elasticsearch-7.0.0"
      ],
      "metadata": {
        "id": "zUVVu1ZcB0Wq"
      },
      "execution_count": null,
      "outputs": []
    },
    {
      "cell_type": "code",
      "source": [
        "# start server\n",
        "import os\n",
        "from subprocess import Popen, PIPE, STDOUT\n",
        "es_server = Popen(['elasticsearch-7.0.0/bin/elasticsearch'],\n",
        "                  stdout=PIPE, stderr=STDOUT,\n",
        "                  preexec_fn=lambda: os.setuid(1)  # as daemon\n",
        "                 )"
      ],
      "metadata": {
        "id": "5J1KZpttCSAH"
      },
      "execution_count": null,
      "outputs": []
    },
    {
      "cell_type": "code",
      "source": [
        "# wait a bit then test\n",
        "!curl -X GET \"localhost:9200/\""
      ],
      "metadata": {
        "colab": {
          "base_uri": "https://localhost:8080/"
        },
        "id": "TJLdHeOTCpn0",
        "outputId": "148fd380-cc04-497e-8a4f-15ed17a36801"
      },
      "execution_count": null,
      "outputs": [
        {
          "output_type": "stream",
          "name": "stdout",
          "text": [
            "{\n",
            "  \"name\" : \"45bec8da0903\",\n",
            "  \"cluster_name\" : \"elasticsearch\",\n",
            "  \"cluster_uuid\" : \"B-Ooi4-MRuaBI_pj95ntKQ\",\n",
            "  \"version\" : {\n",
            "    \"number\" : \"7.0.0\",\n",
            "    \"build_flavor\" : \"default\",\n",
            "    \"build_type\" : \"tar\",\n",
            "    \"build_hash\" : \"b7e28a7\",\n",
            "    \"build_date\" : \"2019-04-05T22:55:32.697037Z\",\n",
            "    \"build_snapshot\" : false,\n",
            "    \"lucene_version\" : \"8.0.0\",\n",
            "    \"minimum_wire_compatibility_version\" : \"6.7.0\",\n",
            "    \"minimum_index_compatibility_version\" : \"6.0.0-beta1\"\n",
            "  },\n",
            "  \"tagline\" : \"You Know, for Search\"\n",
            "}\n"
          ]
        }
      ]
    },
    {
      "cell_type": "code",
      "source": [
        "from requests import models, Session, Request\n",
        "from urllib.parse import urljoin\n",
        "from IPython.core.magic import register_cell_magic\n",
        "import re\n",
        "\n",
        "# to display json response\n",
        "def render(r):\n",
        "  text = r.text\n",
        "  if text[0] in \"[{\":\n",
        "    return \"\"\"\n",
        "    <script src=\"https://rawgit.com/caldwell/renderjson/master/renderjson.js\"></script>\n",
        "    <script>\n",
        "      renderjson.set_show_to_level(1)\n",
        "      document.body.appendChild(renderjson(%s))\n",
        "      new ResizeObserver(google.colab.output.resizeIframeToContent).observe(\n",
        "          document.body)\n",
        "    </script>\n",
        "    \"\"\" % text\n",
        "  else:\n",
        "    return \"<pre>%s</pre>\" % text\n",
        "models.Response.repr_html_ = render"
      ],
      "metadata": {
        "id": "vG1s0wfODZtG"
      },
      "execution_count": null,
      "outputs": []
    },
    {
      "cell_type": "code",
      "source": [
        "@register_cell_magic\n",
        "def es(line=\"\", cell=\"\"):\n",
        "  cell = re.sub(r'(?m)^\\s*#.*\\n?','', cell)\n",
        "  line1 = (cell + '\\n').find('\\n')\n",
        "  method, path = cell[:line1].split(None, 1)\n",
        "  body = cell[line1:].strip()\n",
        "  args = {}\n",
        "  if body:\n",
        "    args['data'] = (body + '\\n').encode()\n",
        "  rsp = Session().send(Request(method, urljoin('http://localhost:9200', path), **args).prepare())\n",
        "  return rsp"
      ],
      "metadata": {
        "id": "uvxmYfyaEemA"
      },
      "execution_count": null,
      "outputs": []
    },
    {
      "cell_type": "code",
      "source": [
        "%%es\n",
        "GET /"
      ],
      "metadata": {
        "colab": {
          "base_uri": "https://localhost:8080/"
        },
        "id": "6qbVXzMDFKob",
        "outputId": "459e78d3-a96e-4070-a9e3-23c0b6357043"
      },
      "execution_count": null,
      "outputs": [
        {
          "output_type": "execute_result",
          "data": {
            "text/plain": [
              "<Response [200]>"
            ]
          },
          "metadata": {},
          "execution_count": 24
        }
      ]
    },
    {
      "cell_type": "code",
      "source": [
        "%%es\n",
        "PUT /customer/_doc/1\n",
        "{\n",
        "    \"name\" : \"John Doe\"\n",
        "}"
      ],
      "metadata": {
        "colab": {
          "base_uri": "https://localhost:8080/"
        },
        "id": "Jnlj9puzFOEY",
        "outputId": "9c3e4f8f-bd1b-4697-c7dd-3c65109afb2c"
      },
      "execution_count": null,
      "outputs": [
        {
          "output_type": "execute_result",
          "data": {
            "text/plain": [
              "<Response [406]>"
            ]
          },
          "metadata": {},
          "execution_count": 25
        }
      ]
    },
    {
      "cell_type": "code",
      "source": [
        "%%es\n",
        "PUT /customer/_doc/2\n",
        "{\n",
        "    \"name\" : \"John smith\"\n",
        "}"
      ],
      "metadata": {
        "colab": {
          "base_uri": "https://localhost:8080/"
        },
        "id": "lQE7InNBFVzk",
        "outputId": "75ba4ac1-e989-4fa7-84e6-266e3ec8ada2"
      },
      "execution_count": null,
      "outputs": [
        {
          "output_type": "execute_result",
          "data": {
            "text/plain": [
              "<Response [406]>"
            ]
          },
          "metadata": {},
          "execution_count": 27
        }
      ]
    },
    {
      "cell_type": "markdown",
      "source": [
        "#Python calls JS"
      ],
      "metadata": {
        "id": "iJehRdwpGUxw"
      }
    },
    {
      "cell_type": "code",
      "source": [
        "%%html\n",
        "<script>\n",
        "  document.body.appendChild(document.createTextNode(\"Hello World\"))\n",
        "</script>"
      ],
      "metadata": {
        "colab": {
          "base_uri": "https://localhost:8080/",
          "height": 34
        },
        "id": "e4ufBIncGD4C",
        "outputId": "8e328e9c-a449-46d1-a61d-09f70cfe24be"
      },
      "execution_count": null,
      "outputs": [
        {
          "output_type": "display_data",
          "data": {
            "text/plain": [
              "<IPython.core.display.HTML object>"
            ],
            "text/html": [
              "<script>\n",
              "  document.body.appendChild(document.createTextNode(\"Hello World\"))\n",
              "</script>\n"
            ]
          },
          "metadata": {}
        }
      ]
    },
    {
      "cell_type": "code",
      "source": [
        "from IPython.display import Javascript\n",
        "Javascript('document.body.append(document.createTextNode(\"Hello\"))')"
      ],
      "metadata": {
        "colab": {
          "base_uri": "https://localhost:8080/",
          "height": 34
        },
        "id": "qe9zIcQBGcOd",
        "outputId": "7f554a8b-fd37-4c8a-9526-c10a7bda3778"
      },
      "execution_count": null,
      "outputs": [
        {
          "output_type": "execute_result",
          "data": {
            "text/plain": [
              "<IPython.core.display.Javascript object>"
            ],
            "application/javascript": [
              "document.body.append(document.createTextNode(\"Hello\"))"
            ]
          },
          "metadata": {},
          "execution_count": 29
        }
      ]
    },
    {
      "cell_type": "code",
      "source": [
        "from google.colab.output import eval_js\n",
        "eval_js('1+1')"
      ],
      "metadata": {
        "colab": {
          "base_uri": "https://localhost:8080/",
          "height": 34
        },
        "id": "q1FKPhOnGoDE",
        "outputId": "a32f5590-2988-447c-d699-ac1639996038"
      },
      "execution_count": null,
      "outputs": [
        {
          "output_type": "execute_result",
          "data": {
            "text/plain": [
              "2"
            ]
          },
          "metadata": {},
          "execution_count": 30
        }
      ]
    },
    {
      "cell_type": "markdown",
      "source": [
        "#JS calls Python"
      ],
      "metadata": {
        "id": "qcMIomVbGwhN"
      }
    },
    {
      "cell_type": "markdown",
      "source": [
        "#Toy Example"
      ],
      "metadata": {
        "id": "KSLnA971GzMP"
      }
    },
    {
      "cell_type": "code",
      "source": [
        "from IPython.display import JSON\n",
        "import IPython.display as idisplay\n",
        "from google.colab import output\n",
        "\n",
        "def concat(a, b):\n",
        "  return JSON({'result': '%s %s' % (a, b)})\n",
        "\n",
        "output.register_callback('concat', concat)"
      ],
      "metadata": {
        "id": "UrVoz2F3Gx7z"
      },
      "execution_count": null,
      "outputs": []
    },
    {
      "cell_type": "code",
      "source": [
        "idisplay.Javascript('''\n",
        "(async function() {\n",
        "  const result = await google.colab.kernel.invokeFunction(\n",
        "    'notebook.concat',\n",
        "    ['hello', 'world'],\n",
        "    {});\n",
        "\n",
        "    const text = result.data['application/json'].result;\n",
        "    document.querySelector(\"output-area\").appendChild(document.createTextNode(text))\n",
        "})();\n",
        "''')"
      ],
      "metadata": {
        "colab": {
          "base_uri": "https://localhost:8080/",
          "height": 17
        },
        "id": "03h6Z9BdHU_y",
        "outputId": "429a2c12-19d9-48a4-b595-014e1a69200e"
      },
      "execution_count": null,
      "outputs": [
        {
          "output_type": "execute_result",
          "data": {
            "text/plain": [
              "<IPython.core.display.Javascript object>"
            ],
            "application/javascript": [
              "\n",
              "(async function() {\n",
              "  const result = await google.colab.kernel.invokeFunction(\n",
              "    'notebook.concat',\n",
              "    ['hello', 'world'], \n",
              "    {});\n",
              "\n",
              "    const text = result.data['application/json'].result;\n",
              "    document.querySelector(\"output-area\").appendChild(document.createTextNode(text))\n",
              "})();\n"
            ]
          },
          "metadata": {},
          "execution_count": 33
        }
      ]
    },
    {
      "cell_type": "markdown",
      "source": [
        "#Take a photo"
      ],
      "metadata": {
        "id": "oB5fXUIHH-ro"
      }
    },
    {
      "cell_type": "code",
      "source": [
        "from IPython.display import HTML, Image\n",
        "from google.colab.output import eval_js\n",
        "from base64 import b64decode"
      ],
      "metadata": {
        "id": "rG3XPmoOICHu"
      },
      "execution_count": null,
      "outputs": []
    },
    {
      "cell_type": "code",
      "source": [
        "VIDEO_HTML = \"\"\"\n",
        "<video autoplay\n",
        "width=800 height=600></video>\n",
        "<script>\n",
        "var video = document.querySelector('video')\n",
        "navigator.mediaDevices.getUserMedia({ video: true })\n",
        "  .then(stream=> video.srcObject = stream)\n",
        "\n",
        "var data = new Promise(resolve=>{\n",
        "  video.onclick = ()=>{\n",
        "    var canvas = document.createElement('canvas')\n",
        "    var [w,h] = [video.offsetWidth, video.offsetHeight]\n",
        "    canvas.width = w\n",
        "    canvas.height = h\n",
        "    canvas.getContext('2d')\n",
        "          .drawImage(video, 0, 0, w, h)\n",
        "    video.srcObject.getVideoTracks()[0].stop()\n",
        "    video.replaceWith(canvas)\n",
        "    resolve(canvas.toDataURL('image/jpeg', %f))\n",
        "  }\n",
        "})\n",
        "</script>\n",
        "\"\"\""
      ],
      "metadata": {
        "id": "6r7eInpRILBU"
      },
      "execution_count": null,
      "outputs": []
    },
    {
      "cell_type": "code",
      "source": [
        "def take_photo(filename='photo.jpg', quality=0.8):\n",
        "  display(HTML(VIDEO_HTML % quality))\n",
        "  data = eval_js(\"data\")\n",
        "  binary = b64decode(data.split(',')[1])\n",
        "  with open(filename, 'wb') as f:\n",
        "    f.write(binary)\n",
        "  return len(binary)"
      ],
      "metadata": {
        "id": "5IGqAvcUIhDL"
      },
      "execution_count": null,
      "outputs": []
    },
    {
      "cell_type": "code",
      "source": [
        "take_photo()"
      ],
      "metadata": {
        "colab": {
          "base_uri": "https://localhost:8080/",
          "height": 658
        },
        "id": "ZFdZGdo1ImO6",
        "outputId": "97e39466-417b-4966-ab42-ab80c93b8c1e"
      },
      "execution_count": null,
      "outputs": [
        {
          "output_type": "display_data",
          "data": {
            "text/plain": [
              "<IPython.core.display.HTML object>"
            ],
            "text/html": [
              "\n",
              "<video autoplay\n",
              "width=800 height=600></video>\n",
              "<script>\n",
              "var video = document.querySelector('video')\n",
              "navigator.mediaDevices.getUserMedia({ video: true })\n",
              "  .then(stream=> video.srcObject = stream)\n",
              "\n",
              "var data = new Promise(resolve=>{\n",
              "  video.onclick = ()=>{\n",
              "    var canvas = document.createElement('canvas')\n",
              "    var [w,h] = [video.offsetWidth, video.offsetHeight]\n",
              "    canvas.width = w\n",
              "    canvas.height = h\n",
              "    canvas.getContext('2d')\n",
              "          .drawImage(video, 0, 0, w, h)\n",
              "    video.srcObject.getVideoTracks()[0].stop()\n",
              "    video.replaceWith(canvas)\n",
              "    resolve(canvas.toDataURL('image/jpeg', 0.800000))\n",
              "  }\n",
              "})\n",
              "</script>\n"
            ]
          },
          "metadata": {}
        },
        {
          "output_type": "execute_result",
          "data": {
            "text/plain": [
              "46083"
            ]
          },
          "metadata": {},
          "execution_count": 38
        }
      ]
    }
  ]
}